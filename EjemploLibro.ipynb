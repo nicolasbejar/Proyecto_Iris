{
  "nbformat": 4,
  "nbformat_minor": 0,
  "metadata": {
    "colab": {
      "name": "Untitled0.ipynb",
      "provenance": [],
      "authorship_tag": "ABX9TyOYW15ibIyauA8ii8gRMGNK",
      "include_colab_link": true
    },
    "kernelspec": {
      "name": "python3",
      "display_name": "Python 3"
    },
    "language_info": {
      "name": "python"
    }
  },
  "cells": [
    {
      "cell_type": "markdown",
      "metadata": {
        "id": "view-in-github",
        "colab_type": "text"
      },
      "source": [
        "<a href=\"https://colab.research.google.com/github/nicolasbejar/Proyecto_Iris/blob/LuisK/EjemploLibro.ipynb\" target=\"_parent\"><img src=\"https://colab.research.google.com/assets/colab-badge.svg\" alt=\"Open In Colab\"/></a>"
      ]
    },
    {
      "cell_type": "code",
      "metadata": {
        "id": "9z5xlsIWiWD_"
      },
      "source": [
        "#Instalar las librerias de Keras y numpy\n",
        "#Keras: paqueteria para construir las redes neuronales\n",
        "#numpy: paqueteria para operaciones matematicas\n",
        "!pip install keras\n",
        "from keras.models import Sequential\n",
        "from keras.layers import Dense\n",
        "import numpy as np"
      ],
      "execution_count": null,
      "outputs": []
    },
    {
      "cell_type": "code",
      "metadata": {
        "id": "oI-bSnIcigGR"
      },
      "source": [
        "#Creamos una matriz de datos aleatorios de 1000X10\n",
        "#Creamos una variable que vamos a querer predecir por lo que creamos un vector de 1000 datos\n",
        "data = np.random.random((1000,10))\n",
        "Y = np.random.randint(2,size= (1000,1))"
      ],
      "execution_count": null,
      "outputs": []
    },
    {
      "cell_type": "code",
      "metadata": {
        "id": "t8gCLqjNiiD-"
      },
      "source": [
        "#inicializamos una red neuronal con la funcion Sequential()\n",
        "#Agregamos capas (hidden layers) con la funcion add(dense())\n",
        "#Dentro de la función el primer parámetro 32 idica cuantos nodos tiene la capa\n",
        "#la dimension indica cuantos inputs le van a llegar\n",
        "#El parámetro activation indica el tipo de funcion de activacion que se va a implementar\n",
        "model = Sequential()\n",
        "model.add(Dense(32, input_dim=10, activation= 'relu' ))\n",
        "model.add(Dense(32, activation= 'relu' ))\n",
        "model.add(Dense(1, activation= 'sigmoid'))"
      ],
      "execution_count": null,
      "outputs": []
    },
    {
      "cell_type": "code",
      "metadata": {
        "id": "X8YXMM95ipRL"
      },
      "source": [
        "#Con compile se define el tipo de funcion de costo a implementar, el tipo de optimizador que se va a implementar\n",
        "#la metrica que se va a emplear para revisar el modelo\n",
        "model.compile(loss= 'binary_crossentropy' , optimizer= 'adam' , \\\n",
        "  metrics=[ 'accuracy' ])"
      ],
      "execution_count": null,
      "outputs": []
    },
    {
      "cell_type": "code",
      "metadata": {
        "id": "3f9aI-nZirtX"
      },
      "source": [
        "#Con model.fit se ajusta la red a las datos, es lo que permite entrenar la red \n",
        "#epochs indica cuantas veces se va a correr la red para entrenar la red\n",
        "#batch_size indica cuantas lineas de la matriz de inputs van a entrar al modelo en cada interación\n",
        "#Se tomaron los primeros 900 datos para entrenar la red\n",
        "model.fit(data, Y, epochs=10, batch_size=32)"
      ],
      "execution_count": null,
      "outputs": []
    },
    {
      "cell_type": "code",
      "metadata": {
        "id": "ivuhL5SlisZ9"
      },
      "source": [
        "#Setomaron los ultimos 99 datos para evaluar el desempeño de la red\n",
        "#Se imprime la metrica de desempeño escogida anteriormente\n",
        "X_test = data[901:]\n",
        "Y_test = Y[901:]\n",
        "scores = model.evaluate(X_test, Y_test)\n",
        "print(\"%s: %.2f%%\" % (model.metrics_names[1], scores[1]*100))"
      ],
      "execution_count": null,
      "outputs": []
    }
  ]
}